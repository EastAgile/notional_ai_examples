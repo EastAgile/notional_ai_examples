{
 "cells": [
  {
   "cell_type": "markdown",
   "id": "1277bcbd",
   "metadata": {},
   "source": [
    "# Bike Sharing Dataset Exogenous Variables Selection "
   ]
  },
  {
   "cell_type": "markdown",
   "id": "8a9d76d0",
   "metadata": {},
   "source": [
    "In this notebook, you will be guided on how to leverage the exogenous variables we provide in order to improve the performance of the bike-sharing dataset. The dataset can be found [here](https://archive.ics.uci.edu/ml/datasets/bike+sharing+dataset)."
   ]
  },
  {
   "cell_type": "markdown",
   "id": "892ceed8",
   "metadata": {},
   "source": [
    "Copy the code to the current working example"
   ]
  },
  {
   "cell_type": "code",
   "execution_count": 1,
   "id": "db802749",
   "metadata": {
    "ExecuteTime": {
     "end_time": "2023-05-25T03:14:16.508352Z",
     "start_time": "2023-05-25T03:14:14.755182Z"
    },
    "scrolled": true
   },
   "outputs": [],
   "source": [
    "!cp ../calculate_feature_score.py .\n",
    "!cp ../feature_selection.py .\n",
    "!cp ../utils.py ."
   ]
  },
  {
   "cell_type": "markdown",
   "id": "9a5aeada",
   "metadata": {},
   "source": [
    "## Standard imports\n"
   ]
  },
  {
   "cell_type": "code",
   "execution_count": 1,
   "id": "de180471",
   "metadata": {
    "ExecuteTime": {
     "end_time": "2023-05-25T17:03:30.742597Z",
     "start_time": "2023-05-25T17:03:30.319574Z"
    }
   },
   "outputs": [],
   "source": [
    "# Import necessary libraries\n",
    "import numpy as np\n",
    "import pandas as pd\n",
    "import os, warnings, requests, sys\n",
    "\n",
    "# Ignore warnings\n",
    "warnings.filterwarnings(action='ignore')"
   ]
  },
  {
   "cell_type": "markdown",
   "id": "be0bd362",
   "metadata": {},
   "source": [
    "## Download the bulk dataset from the API"
   ]
  },
  {
   "cell_type": "markdown",
   "id": "43230105",
   "metadata": {},
   "source": [
    "Enter your API key to get access to the API"
   ]
  },
  {
   "cell_type": "code",
   "execution_count": 3,
   "id": "97ed4989",
   "metadata": {
    "ExecuteTime": {
     "end_time": "2023-05-25T02:21:53.101673Z",
     "start_time": "2023-05-25T02:21:25.781124Z"
    }
   },
   "outputs": [
    {
     "name": "stdout",
     "output_type": "stream",
     "text": [
      "Enter your Notional API key: ········\n"
     ]
    }
   ],
   "source": [
    "import getpass\n",
    "api_key = getpass.getpass('Enter your Notional API key: ')"
   ]
  },
  {
   "cell_type": "code",
   "execution_count": 4,
   "id": "3ea29945",
   "metadata": {
    "ExecuteTime": {
     "end_time": "2023-05-25T02:21:55.052254Z",
     "start_time": "2023-05-25T02:21:54.300794Z"
    }
   },
   "outputs": [],
   "source": [
    "url = \"https://api.notional.ai/v1/series/bulk\"\n",
    "headers = {\n",
    "  \"x-notionalai-api-key\": api_key,\n",
    "}\n",
    "\n",
    "response = requests.request(\"GET\", url, headers=headers)"
   ]
  },
  {
   "cell_type": "code",
   "execution_count": 5,
   "id": "aec3447f",
   "metadata": {
    "ExecuteTime": {
     "end_time": "2023-05-25T02:53:38.266469Z",
     "start_time": "2023-05-25T02:21:55.058564Z"
    }
   },
   "outputs": [],
   "source": [
    "import urllib.request\n",
    "import sys\n",
    "\n",
    "\n",
    "opener = urllib.request.build_opener()\n",
    "urllib.request.install_opener(opener)\n",
    "urllib.request.urlretrieve(response.json()['result_url'], './data/all_features.parquet');"
   ]
  },
  {
   "cell_type": "markdown",
   "id": "4bda1757",
   "metadata": {},
   "source": [
    "## Data preparation"
   ]
  },
  {
   "cell_type": "markdown",
   "id": "598aa76c",
   "metadata": {},
   "source": [
    "Define the loss function that you want. Here we will use root mean squared error."
   ]
  },
  {
   "cell_type": "code",
   "execution_count": 2,
   "id": "447a76d2",
   "metadata": {
    "ExecuteTime": {
     "end_time": "2023-05-25T17:03:35.414693Z",
     "start_time": "2023-05-25T17:03:35.001963Z"
    }
   },
   "outputs": [],
   "source": [
    "from sklearn.metrics import mean_squared_error\n",
    "\n",
    "def rmse(y_true, y_pred):\n",
    "    return np.sqrt(mean_squared_error(y_true, y_pred))"
   ]
  },
  {
   "cell_type": "markdown",
   "id": "b57b43c0",
   "metadata": {},
   "source": [
    "Your dataset should be in tabular format with a `date/timestamp column` and a `target column`. All other columns will be considered as exogenous variables."
   ]
  },
  {
   "cell_type": "code",
   "execution_count": 4,
   "id": "9351e202",
   "metadata": {
    "ExecuteTime": {
     "end_time": "2023-05-25T17:03:44.020574Z",
     "start_time": "2023-05-25T17:03:44.012961Z"
    }
   },
   "outputs": [],
   "source": [
    "# Choose your lost function here\n",
    "scoring = rmse\n",
    "\n",
    "# Date/timestamp column\n",
    "timestamp_col = 'date'\n",
    "\n",
    "# Target column, i.e label\n",
    "target_col = 'count'\n",
    "\n",
    "# Path to the bulk dataset parquet file\n",
    "features_parquet_path = 'data/all_features.parquet'\n",
    "\n",
    "# The directory to store the feature evaluation results\n",
    "output_dir = 'fs_results'\n",
    "\n",
    "# Number of trials for optuna hyperparameter tuning\n",
    "optuna_n_trials = 200\n",
    "\n",
    "# Forecast length\n",
    "prediction_length = 14"
   ]
  },
  {
   "cell_type": "markdown",
   "id": "0b2e1267",
   "metadata": {},
   "source": [
    "We'll read and split the dataset into a train set and a test set. In addition, we will also get the `cvs` variable, which contain the validation split for our cross validation process."
   ]
  },
  {
   "cell_type": "code",
   "execution_count": 5,
   "id": "66231757",
   "metadata": {
    "ExecuteTime": {
     "end_time": "2023-05-25T17:03:48.860664Z",
     "start_time": "2023-05-25T17:03:47.422411Z"
    }
   },
   "outputs": [],
   "source": [
    "from utils import prepare_train_val_test_data\n",
    "\n",
    "# Read the bike sharing dataset\n",
    "data = pd.read_csv(\"data/bike_sharing_day.csv\")\n",
    "\n",
    "# Currenly we support the timestamp column as string type\n",
    "data[timestamp_col] = data[timestamp_col].astype(str)\n",
    "data = data.sort_values(timestamp_col).reset_index(drop=True)\n",
    "\n",
    "# The length of the test dataset. Set it to None for it to equals to the prediction_length\n",
    "test_size = None\n",
    "\n",
    "# The ratio of the validation dataset used for cross validation\n",
    "val_ratio = 0.25\n",
    "\n",
    "# Number of cross validation folds\n",
    "cv_fold = 5\n",
    "\n",
    "# Should we add a lag_<prediction_length> column to the dataset? Should be yes in most of the cases.\n",
    "add_lag_col = True\n",
    "\n",
    "train_data, test_data, cvs = prepare_train_val_test_data(\n",
    "    data=data, \n",
    "    target_col=target_col, \n",
    "    timestamp_col=timestamp_col, \n",
    "    test_size=test_size, \n",
    "    val_ratio=val_ratio, \n",
    "    cv_fold=cv_fold, \n",
    "    prediction_length=prediction_length, \n",
    "    add_lag_col=add_lag_col\n",
    ")"
   ]
  },
  {
   "cell_type": "code",
   "execution_count": 8,
   "id": "3701c52a",
   "metadata": {
    "ExecuteTime": {
     "end_time": "2023-05-25T10:07:25.567898Z",
     "start_time": "2023-05-25T10:07:25.560009Z"
    }
   },
   "outputs": [],
   "source": [
    "train_data['count'] = np.log1p(train_data['count'])\n",
    "test_data['count'] = np.log1p(test_data['count'])\n",
    "train_data['count_lag_14'] = np.log1p(train_data['count_lag_14'])\n",
    "test_data['count_lag_14'] = np.log1p(test_data['count_lag_14'])"
   ]
  },
  {
   "cell_type": "markdown",
   "id": "7ec3e66e",
   "metadata": {},
   "source": [
    "## Feature Selection"
   ]
  },
  {
   "cell_type": "markdown",
   "id": "4a4d9f0c",
   "metadata": {},
   "source": [
    "Our feature selection method consists of multiple steps to ensure significant improvement and the applicability of selected features to a wide range of time series forecasting models, even though the method is built solely on the XGBoost model. To utilize our feature selection method, follow these steps:\n",
    "\n",
    "1. Create an instance of the FeatureSelector class.\n",
    "2. Call the `fit` method on the created instance, providing the necessary parameters. Note that this process requires a machine with a GPU.\n",
    "3. Once the feature selection process is completed, you can use the get_best_features() method to obtain a list of features with strong predictive power."
   ]
  },
  {
   "cell_type": "code",
   "execution_count": 7,
   "id": "de89864d",
   "metadata": {
    "ExecuteTime": {
     "end_time": "2023-05-25T17:04:01.311425Z",
     "start_time": "2023-05-25T17:04:01.304029Z"
    }
   },
   "outputs": [],
   "source": [
    "from feature_selection import FeatureSelector\n",
    "feature_selector = FeatureSelector()"
   ]
  },
  {
   "cell_type": "code",
   "execution_count": 20,
   "id": "23091653",
   "metadata": {
    "ExecuteTime": {
     "end_time": "2023-05-26T04:41:38.067838Z",
     "start_time": "2023-05-26T04:32:17.675849Z"
    },
    "scrolled": true
   },
   "outputs": [
    {
     "name": "stdout",
     "output_type": "stream",
     "text": [
      "Fine tuning Xgboost model\n"
     ]
    },
    {
     "data": {
      "application/vnd.jupyter.widget-view+json": {
       "model_id": "4461cb28952749ad978d19f5fb32ba25",
       "version_major": 2,
       "version_minor": 0
      },
      "text/plain": [
       "  0%|          | 0/200 [00:00<?, ?it/s]"
      ]
     },
     "metadata": {},
     "output_type": "display_data"
    },
    {
     "data": {
      "application/vnd.jupyter.widget-view+json": {
       "model_id": "6c663cb650ce4e03a8af570b1e5379f5",
       "version_major": 2,
       "version_minor": 0
      },
      "text/plain": [
       "  0%|          | 0/23 [00:00<?, ?it/s]"
      ]
     },
     "metadata": {},
     "output_type": "display_data"
    },
    {
     "name": "stderr",
     "output_type": "stream",
     "text": [
      "/opt/conda/envs/notional-ts/lib/python3.8/site-packages/xgboost/compat.py:36: FutureWarning: pandas.Int64Index is deprecated and will be removed from pandas in a future version. Use pandas.Index with the appropriate dtype instead.\n",
      "  from pandas import MultiIndex, Int64Index\n",
      " 25%|██▌       | 753/2977 [03:43<11:00,  3.37it/s]\n",
      "Traceback (most recent call last):\n",
      "  File \"calculate_feature_score.py\", line 38, in <module>\n",
      "    output = calculate_feature_score(**input_dict)\n",
      "  File \"calculate_feature_score.py\", line 22, in calculate_feature_score\n",
      "    losses = run_cv(model, train_data_exo_small, target_col,\n",
      "  File \"/notional_data/phuc_workspace/notional-ts-examples/bike_sharing/utils.py\", line 197, in run_cv\n",
      "    model.fit(X_train, y_train)\n",
      "  File \"/opt/conda/envs/notional-ts/lib/python3.8/site-packages/xgboost/core.py\", line 506, in inner_f\n",
      "    return f(**kwargs)\n",
      "  File \"/opt/conda/envs/notional-ts/lib/python3.8/site-packages/xgboost/sklearn.py\", line 789, in fit\n",
      "    self._Booster = train(\n",
      "  File \"/opt/conda/envs/notional-ts/lib/python3.8/site-packages/xgboost/training.py\", line 188, in train\n",
      "    bst = _train_internal(params, dtrain,\n",
      "  File \"/opt/conda/envs/notional-ts/lib/python3.8/site-packages/xgboost/training.py\", line 112, in _train_internal\n",
      "    return bst.copy()\n",
      "  File \"/opt/conda/envs/notional-ts/lib/python3.8/site-packages/xgboost/core.py\", line 1533, in copy\n",
      "    return self.__copy__()\n",
      "  File \"/opt/conda/envs/notional-ts/lib/python3.8/site-packages/xgboost/core.py\", line 1519, in __copy__\n",
      "    return self.__deepcopy__(None)\n",
      "  File \"/opt/conda/envs/notional-ts/lib/python3.8/site-packages/xgboost/core.py\", line 1523, in __deepcopy__\n",
      "    return Booster(model_file=self)\n",
      "  File \"/opt/conda/envs/notional-ts/lib/python3.8/site-packages/xgboost/core.py\", line 1323, in __init__\n",
      "    _LIB.XGBoosterUnserializeFromBuffer(self.handle, ptr, length))\n",
      "KeyboardInterrupt\n"
     ]
    },
    {
     "ename": "KeyboardInterrupt",
     "evalue": "",
     "output_type": "error",
     "traceback": [
      "\u001b[0;31m---------------------------------------------------------------------------\u001b[0m",
      "\u001b[0;31mKeyboardInterrupt\u001b[0m                         Traceback (most recent call last)",
      "Cell \u001b[0;32mIn[20], line 1\u001b[0m\n\u001b[0;32m----> 1\u001b[0m \u001b[43mfeature_selector\u001b[49m\u001b[38;5;241;43m.\u001b[39;49m\u001b[43mfit\u001b[49m\u001b[43m(\u001b[49m\n\u001b[1;32m      2\u001b[0m \u001b[43m    \u001b[49m\u001b[43mtrain_data\u001b[49m\u001b[38;5;241;43m=\u001b[39;49m\u001b[43mtrain_data\u001b[49m\u001b[43m,\u001b[49m\n\u001b[1;32m      3\u001b[0m \u001b[43m    \u001b[49m\u001b[43mcvs\u001b[49m\u001b[38;5;241;43m=\u001b[39;49m\u001b[43mcvs\u001b[49m\u001b[43m,\u001b[49m\n\u001b[1;32m      4\u001b[0m \u001b[43m    \u001b[49m\u001b[43mtimestamp_col\u001b[49m\u001b[38;5;241;43m=\u001b[39;49m\u001b[43mtimestamp_col\u001b[49m\u001b[43m,\u001b[49m\n\u001b[1;32m      5\u001b[0m \u001b[43m    \u001b[49m\u001b[43mtarget_col\u001b[49m\u001b[38;5;241;43m=\u001b[39;49m\u001b[43mtarget_col\u001b[49m\u001b[43m,\u001b[49m\n\u001b[1;32m      6\u001b[0m \u001b[43m    \u001b[49m\u001b[43mprediction_length\u001b[49m\u001b[38;5;241;43m=\u001b[39;49m\u001b[43mprediction_length\u001b[49m\u001b[43m,\u001b[49m\n\u001b[1;32m      7\u001b[0m \u001b[43m    \u001b[49m\u001b[43mfeatures_parquet_path\u001b[49m\u001b[38;5;241;43m=\u001b[39;49m\u001b[43mfeatures_parquet_path\u001b[49m\u001b[43m,\u001b[49m\n\u001b[1;32m      8\u001b[0m \u001b[43m    \u001b[49m\u001b[43moutput_dir\u001b[49m\u001b[38;5;241;43m=\u001b[39;49m\u001b[43moutput_dir\u001b[49m\u001b[43m,\u001b[49m\n\u001b[1;32m      9\u001b[0m \u001b[43m    \u001b[49m\u001b[43mscoring\u001b[49m\u001b[38;5;241;43m=\u001b[39;49m\u001b[43mscoring\u001b[49m\u001b[43m,\u001b[49m\n\u001b[1;32m     10\u001b[0m \u001b[43m    \u001b[49m\u001b[43moptuna_n_trials\u001b[49m\u001b[38;5;241;43m=\u001b[39;49m\u001b[43moptuna_n_trials\u001b[49m\u001b[43m,\u001b[49m\n\u001b[1;32m     11\u001b[0m \u001b[43m    \u001b[49m\u001b[43mgpu_id\u001b[49m\u001b[38;5;241;43m=\u001b[39;49m\u001b[38;5;241;43m0\u001b[39;49m\u001b[43m,\u001b[49m\n\u001b[1;32m     12\u001b[0m \u001b[43m    \u001b[49m\u001b[43mfitted\u001b[49m\u001b[38;5;241;43m=\u001b[39;49m\u001b[38;5;28;43;01mFalse\u001b[39;49;00m\u001b[43m \u001b[49m\u001b[38;5;66;43;03m#Refit?\u001b[39;49;00m\n\u001b[1;32m     13\u001b[0m \u001b[43m)\u001b[49m\n",
      "File \u001b[0;32m/notional_data/phuc_workspace/notional-ts-examples/bike_sharing/feature_selection.py:182\u001b[0m, in \u001b[0;36mFeatureSelector.fit\u001b[0;34m(self, train_data, cvs, timestamp_col, target_col, prediction_length, features_parquet_path, output_dir, scoring, optuna_n_trials, gpu_id, fitted)\u001b[0m\n\u001b[1;32m    179\u001b[0m \u001b[38;5;28mself\u001b[39m\u001b[38;5;241m.\u001b[39mbaseline_loss \u001b[38;5;241m=\u001b[39m run_cv(\u001b[38;5;28mself\u001b[39m\u001b[38;5;241m.\u001b[39mxgb_model, \u001b[38;5;28mself\u001b[39m\u001b[38;5;241m.\u001b[39mtrain_data,\n\u001b[1;32m    180\u001b[0m     \u001b[38;5;28mself\u001b[39m\u001b[38;5;241m.\u001b[39mtarget_col, \u001b[38;5;28mself\u001b[39m\u001b[38;5;241m.\u001b[39mcvs, \u001b[38;5;28mself\u001b[39m\u001b[38;5;241m.\u001b[39mscoring, \u001b[38;5;28mself\u001b[39m\u001b[38;5;241m.\u001b[39mtimestamp_col)\n\u001b[1;32m    181\u001b[0m \u001b[38;5;28;01mif\u001b[39;00m \u001b[38;5;129;01mnot\u001b[39;00m fitted:\n\u001b[0;32m--> 182\u001b[0m     \u001b[38;5;28;43mself\u001b[39;49m\u001b[38;5;241;43m.\u001b[39;49m\u001b[43m__run_feature_selection_loop\u001b[49m\u001b[43m(\u001b[49m\u001b[43m)\u001b[49m\n\u001b[1;32m    184\u001b[0m top_features \u001b[38;5;241m=\u001b[39m \u001b[38;5;28mself\u001b[39m\u001b[38;5;241m.\u001b[39m__get_top_10_features()\n\u001b[1;32m    185\u001b[0m \u001b[38;5;28;01mif\u001b[39;00m \u001b[38;5;28mlen\u001b[39m(top_features) \u001b[38;5;241m==\u001b[39m \u001b[38;5;241m0\u001b[39m:\n",
      "File \u001b[0;32m/notional_data/phuc_workspace/notional-ts-examples/bike_sharing/feature_selection.py:95\u001b[0m, in \u001b[0;36mFeatureSelector.__run_feature_selection_loop\u001b[0;34m(self)\u001b[0m\n\u001b[1;32m     88\u001b[0m process \u001b[38;5;241m=\u001b[39m subprocess\u001b[38;5;241m.\u001b[39mPopen(\n\u001b[1;32m     89\u001b[0m     [\u001b[38;5;124m'\u001b[39m\u001b[38;5;124mpython\u001b[39m\u001b[38;5;124m'\u001b[39m, \u001b[38;5;124m'\u001b[39m\u001b[38;5;124mcalculate_feature_score.py\u001b[39m\u001b[38;5;124m'\u001b[39m],\n\u001b[1;32m     90\u001b[0m     stdin\u001b[38;5;241m=\u001b[39msubprocess\u001b[38;5;241m.\u001b[39mPIPE,\n\u001b[1;32m     91\u001b[0m     stdout\u001b[38;5;241m=\u001b[39msubprocess\u001b[38;5;241m.\u001b[39mPIPE,\n\u001b[1;32m     92\u001b[0m     bufsize\u001b[38;5;241m=\u001b[39m\u001b[38;5;241m0\u001b[39m\n\u001b[1;32m     93\u001b[0m )\n\u001b[1;32m     94\u001b[0m cloudpickle\u001b[38;5;241m.\u001b[39mdump(input_dict, process\u001b[38;5;241m.\u001b[39mstdin)\n\u001b[0;32m---> 95\u001b[0m output \u001b[38;5;241m=\u001b[39m \u001b[43mcloudpickle\u001b[49m\u001b[38;5;241;43m.\u001b[39;49m\u001b[43mload\u001b[49m\u001b[43m(\u001b[49m\u001b[43mprocess\u001b[49m\u001b[38;5;241;43m.\u001b[39;49m\u001b[43mstdout\u001b[49m\u001b[43m)\u001b[49m\n\u001b[1;32m     96\u001b[0m \u001b[38;5;28mprint\u001b[39m(output)\n",
      "\u001b[0;31mKeyboardInterrupt\u001b[0m: "
     ]
    }
   ],
   "source": [
    "feature_selector.fit(\n",
    "    train_data=train_data,\n",
    "    cvs=cvs,\n",
    "    timestamp_col=timestamp_col,\n",
    "    target_col=target_col,\n",
    "    prediction_length=prediction_length,\n",
    "    features_parquet_path=features_parquet_path,\n",
    "    output_dir=output_dir,\n",
    "    scoring=scoring,\n",
    "    optuna_n_trials=optuna_n_trials,\n",
    "    gpu_id=0,\n",
    "    fitted=False #Refit?\n",
    ")"
   ]
  },
  {
   "cell_type": "markdown",
   "id": "43575531",
   "metadata": {},
   "source": [
    "Once the `feature_selector.fit()` method is invoked, it generates a directory named according to the `output_dir` variable to hold the evaluation results. In the future, if you wish to utilize the stored results without retraining, you can simply employ `feature_selector.fit()` with the fitted=True parameter."
   ]
  },
  {
   "cell_type": "markdown",
   "id": "95253d7e",
   "metadata": {},
   "source": [
    "Get top 5 features subset"
   ]
  },
  {
   "cell_type": "code",
   "execution_count": 9,
   "id": "18441e2e",
   "metadata": {
    "ExecuteTime": {
     "end_time": "2023-05-26T02:00:23.887589Z",
     "start_time": "2023-05-26T02:00:23.872262Z"
    }
   },
   "outputs": [
    {
     "data": {
      "text/plain": [
       "[['WCR_PRCP_00000267', 'WCR_PRCP_00000263'],\n",
       " ['WCR_PRCP_00002702', 'WCR_PRCP_00000867', 'WCR_PRCP_00000270'],\n",
       " ['WCR_PRCP_00000267'],\n",
       " ['WSR_PRCP_00000051'],\n",
       " ['WCR_PRCP_00000270']]"
      ]
     },
     "execution_count": 9,
     "metadata": {},
     "output_type": "execute_result"
    }
   ],
   "source": [
    "selected_features = feature_selector.get_n_best_features(5)\n",
    "selected_features"
   ]
  },
  {
   "cell_type": "markdown",
   "id": "2b275080",
   "metadata": {},
   "source": [
    "# Evaluate performance of selected features on different models"
   ]
  },
  {
   "cell_type": "markdown",
   "id": "c6ba550f",
   "metadata": {},
   "source": [
    "Import necessary modules and helper functions"
   ]
  },
  {
   "cell_type": "code",
   "execution_count": 11,
   "id": "9740d5ac",
   "metadata": {
    "ExecuteTime": {
     "end_time": "2023-05-26T02:00:38.695555Z",
     "start_time": "2023-05-26T02:00:38.689105Z"
    }
   },
   "outputs": [],
   "source": [
    "from sklearn.linear_model import LinearRegression, Ridge, Lasso, ElasticNet\n",
    "from sklearn.ensemble import RandomForestRegressor, GradientBoostingRegressor\n",
    "from utils import ARIMAModel\n",
    "import xgboost as xgb\n",
    "\n",
    "from utils import fine_tune_model, evaluate_models, add_exo_features"
   ]
  },
  {
   "cell_type": "markdown",
   "id": "2f8c31f7",
   "metadata": {},
   "source": [
    "We will assess the performance of our selected features using four different time series forecasting models: SARIMAX, Lasso, XGBoost, and RandomForest. This evaluation aims to determine the robustness of the selected features.\n",
    "\n",
    "We will evaluate the model performance with and without the selected features and make comparisons. To ensure the reliability of the evaluation, it will be conducted on unseen data, guaranteeing the significance and generalizability of the results."
   ]
  },
  {
   "cell_type": "code",
   "execution_count": 16,
   "id": "ed10707b",
   "metadata": {
    "ExecuteTime": {
     "end_time": "2023-05-26T02:32:34.454808Z",
     "start_time": "2023-05-26T02:27:40.186335Z"
    }
   },
   "outputs": [
    {
     "name": "stdout",
     "output_type": "stream",
     "text": [
      "Model name: ARIMAModel\n",
      "Loss: 1485.3088843066928\n",
      "Model name: Lasso\n",
      "Loss: 1809.4064113960876\n",
      "Model name: XGBRegressor\n",
      "Loss: 1517.2778732478303\n",
      "==============================\n",
      "Best model: ARIMAModel\n",
      "Best loss: 1485.3088843066928\n"
     ]
    }
   ],
   "source": [
    "fine_tune_model_args = {\n",
    "    'train_data': train_data, \n",
    "    'target_col': target_col, \n",
    "    'cvs': cvs, \n",
    "    'scoring': scoring, \n",
    "    'timestamp_col': timestamp_col, \n",
    "    'optuna_n_trials': optuna_n_trials\n",
    "}\n",
    "\n",
    "arima_model = ARIMAModel()\n",
    "lasso_model = fine_tune_model('lasso', **fine_tune_model_args)\n",
    "xgb_model = fine_tune_model('xgboost', **fine_tune_model_args)\n",
    "# rf_model = fine_tune_model('random_forest', **fine_tune_model_args)\n",
    "\n",
    "models = [arima_model, lasso_model, xgb_model]\n",
    "evaluate_models(models, train_data, test_data, target_col, timestamp_col, scoring, prediction_length)"
   ]
  },
  {
   "cell_type": "code",
   "execution_count": 17,
   "id": "986c2c2b",
   "metadata": {
    "ExecuteTime": {
     "end_time": "2023-05-26T02:32:41.308430Z",
     "start_time": "2023-05-26T02:32:34.457398Z"
    }
   },
   "outputs": [],
   "source": [
    "train_data_final = add_exo_features(\n",
    "    train_data, \n",
    "    timestamp_col, \n",
    "    selected_features[0], \n",
    "    features_parquet_path, \n",
    "    prediction_length\n",
    ")\n",
    "\n",
    "test_data_final = add_exo_features(\n",
    "    test_data, \n",
    "    timestamp_col, \n",
    "    selected_features[0], \n",
    "    features_parquet_path, \n",
    "    prediction_length\n",
    ")"
   ]
  },
  {
   "cell_type": "code",
   "execution_count": 18,
   "id": "11361277",
   "metadata": {
    "ExecuteTime": {
     "end_time": "2023-05-26T02:37:51.099736Z",
     "start_time": "2023-05-26T02:32:41.310371Z"
    },
    "scrolled": false
   },
   "outputs": [
    {
     "name": "stdout",
     "output_type": "stream",
     "text": [
      "Model name: ARIMAModel\n",
      "Loss: 1638.281730928382\n",
      "Model name: Lasso\n",
      "Loss: 1963.0720095027534\n",
      "Model name: XGBRegressor\n",
      "Loss: 1295.9473076156137\n",
      "==============================\n",
      "Best model: XGBRegressor\n",
      "Best loss: 1295.9473076156137\n"
     ]
    }
   ],
   "source": [
    "fine_tune_model_args = {\n",
    "    'train_data': train_data_final, \n",
    "    'target_col': target_col, \n",
    "    'cvs': cvs, \n",
    "    'scoring': scoring, \n",
    "    'timestamp_col': timestamp_col, \n",
    "    'optuna_n_trials': optuna_n_trials\n",
    "}\n",
    "\n",
    "arima_model = ARIMAModel()\n",
    "lasso_model = fine_tune_model('lasso', **fine_tune_model_args)\n",
    "xgb_model = fine_tune_model('xgboost', **fine_tune_model_args)\n",
    "# rf_model = fine_tune_model('random_forest', **fine_tune_model_args)\n",
    "\n",
    "models = [arima_model, lasso_model, xgb_model]\n",
    "evaluate_models(models, train_data_final, test_data_final, target_col, timestamp_col, scoring, prediction_length)"
   ]
  },
  {
   "cell_type": "code",
   "execution_count": null,
   "id": "9d82dfd9",
   "metadata": {},
   "outputs": [],
   "source": []
  }
 ],
 "metadata": {
  "kernelspec": {
   "display_name": "Python 3 (ipykernel)",
   "language": "python",
   "name": "python3"
  },
  "language_info": {
   "codemirror_mode": {
    "name": "ipython",
    "version": 3
   },
   "file_extension": ".py",
   "mimetype": "text/x-python",
   "name": "python",
   "nbconvert_exporter": "python",
   "pygments_lexer": "ipython3",
   "version": "3.8.13"
  },
  "toc": {
   "base_numbering": 1,
   "nav_menu": {},
   "number_sections": false,
   "sideBar": true,
   "skip_h1_title": false,
   "title_cell": "Table of Contents",
   "title_sidebar": "Contents",
   "toc_cell": false,
   "toc_position": {
    "height": "calc(100% - 180px)",
    "left": "10px",
    "top": "150px",
    "width": "165px"
   },
   "toc_section_display": true,
   "toc_window_display": false
  }
 },
 "nbformat": 4,
 "nbformat_minor": 5
}
