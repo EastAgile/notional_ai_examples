{
 "cells": [
  {
   "cell_type": "markdown",
   "id": "1277bcbd",
   "metadata": {},
   "source": [
    "# Bike Sharing Dataset Exogenous Variables Selection "
   ]
  },
  {
   "cell_type": "markdown",
   "id": "8a9d76d0",
   "metadata": {},
   "source": [
    "In this notebook, you will be guided on how to leverage the exogenous variables we provide in order to improve the performance of the bike-sharing dataset. The dataset can be found [here](https://archive.ics.uci.edu/ml/datasets/bike+sharing+dataset)."
   ]
  },
  {
   "cell_type": "markdown",
   "id": "9a5aeada",
   "metadata": {},
   "source": [
    "## Standard imports\n"
   ]
  },
  {
   "cell_type": "code",
   "execution_count": 1,
   "id": "de180471",
   "metadata": {
    "ExecuteTime": {
     "end_time": "2023-05-18T08:16:14.821653Z",
     "start_time": "2023-05-18T08:16:14.386090Z"
    }
   },
   "outputs": [],
   "source": [
    "# Import necessary libraries\n",
    "import numpy as np\n",
    "import pandas as pd\n",
    "import warnings, requests\n",
    "\n",
    "# Ignore warnings\n",
    "warnings.filterwarnings(action='ignore')"
   ]
  },
  {
   "cell_type": "markdown",
   "id": "be0bd362",
   "metadata": {},
   "source": [
    "## Download the bulk dataset from the API"
   ]
  },
  {
   "cell_type": "markdown",
   "id": "43230105",
   "metadata": {},
   "source": [
    "Enter your API key to get access to the API"
   ]
  },
  {
   "cell_type": "code",
   "execution_count": 2,
   "id": "97ed4989",
   "metadata": {
    "ExecuteTime": {
     "end_time": "2023-05-18T07:32:00.582083Z",
     "start_time": "2023-05-18T07:31:49.036078Z"
    }
   },
   "outputs": [
    {
     "name": "stdout",
     "output_type": "stream",
     "text": [
      "Enter your Notional API key: ········\n"
     ]
    }
   ],
   "source": [
    "import getpass\n",
    "api_key = getpass.getpass('Enter your Notional API key: ')"
   ]
  },
  {
   "cell_type": "code",
   "execution_count": 11,
   "id": "3ea29945",
   "metadata": {
    "ExecuteTime": {
     "end_time": "2023-05-18T07:39:59.638915Z",
     "start_time": "2023-05-18T07:39:59.057279Z"
    }
   },
   "outputs": [],
   "source": [
    "url = \"https://api.notional.ai/v1/series/bulk\"\n",
    "headers = {\n",
    "  \"x-notionalai-api-key\": api_key,\n",
    "}\n",
    "\n",
    "response = requests.request(\"GET\", url, headers=headers)"
   ]
  },
  {
   "cell_type": "code",
   "execution_count": 13,
   "id": "aec3447f",
   "metadata": {
    "ExecuteTime": {
     "end_time": "2023-05-18T07:44:51.844416Z",
     "start_time": "2023-05-18T07:42:35.062297Z"
    }
   },
   "outputs": [
    {
     "name": "stdout",
     "output_type": "stream",
     "text": [
      "Downloading: 99%"
     ]
    },
    {
     "data": {
      "text/plain": [
       "('./data/all_features.parquet', <http.client.HTTPMessage at 0x7fc122b6e040>)"
      ]
     },
     "execution_count": 13,
     "metadata": {},
     "output_type": "execute_result"
    }
   ],
   "source": [
    "import urllib.request\n",
    "import sys\n",
    "\n",
    "def download_progress(count, block_size, total_size):\n",
    "    if np.random.rand() > 0.8: # Limit the number of printing in notebook\n",
    "        percent = int(count * block_size * 100 / total_size)\n",
    "        sys.stdout.write('\\rDownloading: %d%%' % percent)\n",
    "        sys.stdout.flush()\n",
    "\n",
    "opener = urllib.request.build_opener()\n",
    "urllib.request.install_opener(opener)\n",
    "urllib.request.urlretrieve(response.json()['result_url'], './data/all_features.parquet', reporthook=download_progress)"
   ]
  },
  {
   "cell_type": "markdown",
   "id": "4bda1757",
   "metadata": {},
   "source": [
    "## Data preparation"
   ]
  },
  {
   "cell_type": "markdown",
   "id": "598aa76c",
   "metadata": {},
   "source": [
    "Define the loss function that you want. Here we will use root mean squared error."
   ]
  },
  {
   "cell_type": "code",
   "execution_count": 2,
   "id": "447a76d2",
   "metadata": {
    "ExecuteTime": {
     "end_time": "2023-05-18T08:16:25.668919Z",
     "start_time": "2023-05-18T08:16:25.247926Z"
    }
   },
   "outputs": [],
   "source": [
    "from sklearn.metrics import mean_squared_error\n",
    "\n",
    "def rmse(y_true, y_pred):\n",
    "    return np.sqrt(mean_squared_error(y_true, y_pred))"
   ]
  },
  {
   "cell_type": "markdown",
   "id": "b57b43c0",
   "metadata": {},
   "source": [
    "Your dataset should be in tabular format with a `date/timestamp column` and a `target column`. All other columns will be considered as exogenous variables."
   ]
  },
  {
   "cell_type": "code",
   "execution_count": 3,
   "id": "9351e202",
   "metadata": {
    "ExecuteTime": {
     "end_time": "2023-05-18T08:16:25.675951Z",
     "start_time": "2023-05-18T08:16:25.671562Z"
    }
   },
   "outputs": [],
   "source": [
    "# Choose your lost function here\n",
    "scoring = rmse\n",
    "\n",
    "# Date/timestamp column\n",
    "timestamp_col = 'date'\n",
    "\n",
    "# Target column, i.e label\n",
    "target_col = 'count'\n",
    "\n",
    "# Path to the bulk dataset parquet file\n",
    "features_parquet_path = 'data/all_features.parquet'\n",
    "\n",
    "# The directory to store the feature evaluation results\n",
    "output_dir = 'fs_results'\n",
    "\n",
    "# Number of trials for optuna hyperparameter tuning\n",
    "optuna_n_trials = 100\n",
    "\n",
    "# Forecast length\n",
    "prediction_length = 14"
   ]
  },
  {
   "cell_type": "markdown",
   "id": "0b2e1267",
   "metadata": {},
   "source": [
    "We'll read and split the dataset into a train set and a test set. In addition, we will also get the `cvs` variable, which contain the validation split for our cross validation process."
   ]
  },
  {
   "cell_type": "code",
   "execution_count": 4,
   "id": "66231757",
   "metadata": {
    "ExecuteTime": {
     "end_time": "2023-05-18T08:16:28.287485Z",
     "start_time": "2023-05-18T08:16:26.909878Z"
    }
   },
   "outputs": [],
   "source": [
    "from utils import prepare_train_val_test_data\n",
    "\n",
    "# Read the bike sharing dataset\n",
    "data = pd.read_csv(\"data/bike_sharing_day.csv\")\n",
    "\n",
    "# Currenly we support the timestamp column as string type\n",
    "data[timestamp_col] = data[timestamp_col].astype(str)\n",
    "data = data.sort_values(timestamp_col).reset_index(drop=True)\n",
    "\n",
    "# The length of the test dataset. Set it to None for it to equals to the prediction_length\n",
    "test_size = None\n",
    "\n",
    "# The ratio of the validation dataset used for cross validation\n",
    "val_ratio = 0.25\n",
    "\n",
    "# Number of cross validation folds\n",
    "cv_fold = 5\n",
    "\n",
    "# Should we add a lag_<prediction_length> column to the dataset? Should be yes in most of the cases.\n",
    "add_lag_col = True\n",
    "\n",
    "train_data, test_data, cvs = prepare_train_val_test_data(\n",
    "    data=data, \n",
    "    target_col=target_col, \n",
    "    timestamp_col=timestamp_col, \n",
    "    test_size=test_size, \n",
    "    val_ratio=val_ratio, \n",
    "    cv_fold=cv_fold, \n",
    "    prediction_length=prediction_length, \n",
    "    add_lag_col=add_lag_col\n",
    ")"
   ]
  },
  {
   "cell_type": "markdown",
   "id": "7ec3e66e",
   "metadata": {},
   "source": [
    "## Feature Selection"
   ]
  },
  {
   "cell_type": "markdown",
   "id": "4a4d9f0c",
   "metadata": {},
   "source": [
    "Our feature selection method consists of multiple steps to ensure significant improvement and the applicability of selected features to a wide range of time series forecasting models, even though the method is built solely on the XGBoost model. To utilize our feature selection method, follow these steps:\n",
    "\n",
    "1. Create an instance of the FeatureSelector class.\n",
    "2. Call the `fit` method on the created instance, providing the necessary parameters. Note that this process requires a machine with a GPU.\n",
    "3. Once the feature selection process is completed, you can use the get_best_features() method to obtain a list of features with strong predictive power."
   ]
  },
  {
   "cell_type": "code",
   "execution_count": 5,
   "id": "de89864d",
   "metadata": {
    "ExecuteTime": {
     "end_time": "2023-05-18T08:16:28.679403Z",
     "start_time": "2023-05-18T08:16:28.669423Z"
    }
   },
   "outputs": [],
   "source": [
    "from feature_selection import FeatureSelector\n",
    "feature_selector = FeatureSelector()"
   ]
  },
  {
   "cell_type": "code",
   "execution_count": 6,
   "id": "23091653",
   "metadata": {
    "ExecuteTime": {
     "end_time": "2023-05-18T08:31:30.255727Z",
     "start_time": "2023-05-18T08:16:29.124889Z"
    },
    "scrolled": false
   },
   "outputs": [
    {
     "name": "stdout",
     "output_type": "stream",
     "text": [
      "Fine tuning Xgboost model\n"
     ]
    },
    {
     "data": {
      "application/vnd.jupyter.widget-view+json": {
       "model_id": "ab6760d896d5416c9dc965804e83fe1c",
       "version_major": 2,
       "version_minor": 0
      },
      "text/plain": [
       "  0%|          | 0/100 [00:00<?, ?it/s]"
      ]
     },
     "metadata": {},
     "output_type": "display_data"
    },
    {
     "data": {
      "application/vnd.jupyter.widget-view+json": {
       "model_id": "8b9adbc005fd4b00b6f2d29d4a85111f",
       "version_major": 2,
       "version_minor": 0
      },
      "text/plain": [
       "  0%|          | 0/10 [00:00<?, ?it/s]"
      ]
     },
     "metadata": {},
     "output_type": "display_data"
    },
    {
     "name": "stderr",
     "output_type": "stream",
     "text": [
      "/opt/conda/envs/notional-ts/lib/python3.8/site-packages/xgboost/compat.py:36: FutureWarning: pandas.Int64Index is deprecated and will be removed from pandas in a future version. Use pandas.Index with the appropriate dtype instead.\n",
      "  from pandas import MultiIndex, Int64Index\n",
      "100%|██████████| 325/325 [01:13<00:00,  4.45it/s]\n"
     ]
    },
    {
     "name": "stdout",
     "output_type": "stream",
     "text": [
      "Finished 325 features in 73.03 seconds\n"
     ]
    },
    {
     "name": "stderr",
     "output_type": "stream",
     "text": [
      "/opt/conda/envs/notional-ts/lib/python3.8/site-packages/xgboost/compat.py:36: FutureWarning: pandas.Int64Index is deprecated and will be removed from pandas in a future version. Use pandas.Index with the appropriate dtype instead.\n",
      "  from pandas import MultiIndex, Int64Index\n",
      "100%|██████████| 335/335 [01:11<00:00,  4.71it/s]\n"
     ]
    },
    {
     "name": "stdout",
     "output_type": "stream",
     "text": [
      "Finished 335 features in 71.14 seconds\n"
     ]
    },
    {
     "name": "stderr",
     "output_type": "stream",
     "text": [
      "/opt/conda/envs/notional-ts/lib/python3.8/site-packages/xgboost/compat.py:36: FutureWarning: pandas.Int64Index is deprecated and will be removed from pandas in a future version. Use pandas.Index with the appropriate dtype instead.\n",
      "  from pandas import MultiIndex, Int64Index\n",
      "100%|██████████| 321/321 [01:08<00:00,  4.70it/s]\n"
     ]
    },
    {
     "name": "stdout",
     "output_type": "stream",
     "text": [
      "321 features finished in 68.37 seconds\n"
     ]
    },
    {
     "name": "stderr",
     "output_type": "stream",
     "text": [
      "/opt/conda/envs/notional-ts/lib/python3.8/site-packages/xgboost/compat.py:36: FutureWarning: pandas.Int64Index is deprecated and will be removed from pandas in a future version. Use pandas.Index with the appropriate dtype instead.\n",
      "  from pandas import MultiIndex, Int64Index\n",
      "100%|██████████| 312/312 [01:09<00:00,  4.52it/s]\n"
     ]
    },
    {
     "name": "stdout",
     "output_type": "stream",
     "text": [
      "312 features finished in 69.08 seconds\n"
     ]
    },
    {
     "name": "stderr",
     "output_type": "stream",
     "text": [
      "/opt/conda/envs/notional-ts/lib/python3.8/site-packages/xgboost/compat.py:36: FutureWarning: pandas.Int64Index is deprecated and will be removed from pandas in a future version. Use pandas.Index with the appropriate dtype instead.\n",
      "  from pandas import MultiIndex, Int64Index\n",
      "100%|██████████| 343/343 [01:12<00:00,  4.76it/s]\n"
     ]
    },
    {
     "name": "stdout",
     "output_type": "stream",
     "text": [
      "343 features finished in 72.02 seconds\n"
     ]
    },
    {
     "name": "stderr",
     "output_type": "stream",
     "text": [
      "/opt/conda/envs/notional-ts/lib/python3.8/site-packages/xgboost/compat.py:36: FutureWarning: pandas.Int64Index is deprecated and will be removed from pandas in a future version. Use pandas.Index with the appropriate dtype instead.\n",
      "  from pandas import MultiIndex, Int64Index\n",
      "100%|██████████| 313/313 [01:10<00:00,  4.47it/s]\n"
     ]
    },
    {
     "name": "stdout",
     "output_type": "stream",
     "text": [
      "313 features finished in 70.08 seconds\n"
     ]
    },
    {
     "name": "stderr",
     "output_type": "stream",
     "text": [
      "/opt/conda/envs/notional-ts/lib/python3.8/site-packages/xgboost/compat.py:36: FutureWarning: pandas.Int64Index is deprecated and will be removed from pandas in a future version. Use pandas.Index with the appropriate dtype instead.\n",
      "  from pandas import MultiIndex, Int64Index\n",
      "100%|██████████| 306/306 [01:08<00:00,  4.47it/s]\n"
     ]
    },
    {
     "name": "stdout",
     "output_type": "stream",
     "text": [
      "306 features finished in 68.40 seconds\n"
     ]
    },
    {
     "name": "stderr",
     "output_type": "stream",
     "text": [
      "/opt/conda/envs/notional-ts/lib/python3.8/site-packages/xgboost/compat.py:36: FutureWarning: pandas.Int64Index is deprecated and will be removed from pandas in a future version. Use pandas.Index with the appropriate dtype instead.\n",
      "  from pandas import MultiIndex, Int64Index\n",
      "100%|██████████| 275/275 [01:01<00:00,  4.47it/s]\n"
     ]
    },
    {
     "name": "stdout",
     "output_type": "stream",
     "text": [
      "275 features finished in 61.53 seconds\n"
     ]
    },
    {
     "name": "stderr",
     "output_type": "stream",
     "text": [
      "/opt/conda/envs/notional-ts/lib/python3.8/site-packages/xgboost/compat.py:36: FutureWarning: pandas.Int64Index is deprecated and will be removed from pandas in a future version. Use pandas.Index with the appropriate dtype instead.\n",
      "  from pandas import MultiIndex, Int64Index\n",
      "100%|██████████| 237/237 [00:57<00:00,  4.13it/s]\n"
     ]
    },
    {
     "name": "stdout",
     "output_type": "stream",
     "text": [
      "237 features finished in 57.35 seconds\n"
     ]
    },
    {
     "name": "stderr",
     "output_type": "stream",
     "text": [
      "/opt/conda/envs/notional-ts/lib/python3.8/site-packages/xgboost/compat.py:36: FutureWarning: pandas.Int64Index is deprecated and will be removed from pandas in a future version. Use pandas.Index with the appropriate dtype instead.\n",
      "  from pandas import MultiIndex, Int64Index\n",
      "100%|██████████| 191/191 [00:46<00:00,  4.12it/s]\n"
     ]
    },
    {
     "name": "stdout",
     "output_type": "stream",
     "text": [
      "191 features finished in 46.38 seconds\n"
     ]
    },
    {
     "data": {
      "application/vnd.jupyter.widget-view+json": {
       "model_id": "b955a2d9e640460fa08b6ea202ccd6ad",
       "version_major": 2,
       "version_minor": 0
      },
      "text/plain": [
       "  0%|          | 0/9 [00:00<?, ?it/s]"
      ]
     },
     "metadata": {},
     "output_type": "display_data"
    }
   ],
   "source": [
    "feature_selector.fit(\n",
    "    train_data=train_data,\n",
    "    cvs=cvs,\n",
    "    timestamp_col=timestamp_col,\n",
    "    target_col=target_col,\n",
    "    prediction_length=prediction_length,\n",
    "    features_parquet_path=features_parquet_path,\n",
    "    output_dir=output_dir,\n",
    "    scoring=scoring,\n",
    "    optuna_n_trials=optuna_n_trials,\n",
    "    gpu_id=0,\n",
    ")"
   ]
  },
  {
   "cell_type": "code",
   "execution_count": 7,
   "id": "18441e2e",
   "metadata": {
    "ExecuteTime": {
     "end_time": "2023-05-18T08:35:35.450681Z",
     "start_time": "2023-05-18T08:35:35.433810Z"
    }
   },
   "outputs": [
    {
     "data": {
      "text/plain": [
       "['F00014670']"
      ]
     },
     "execution_count": 7,
     "metadata": {},
     "output_type": "execute_result"
    }
   ],
   "source": [
    "selected_features = feature_selector.get_best_features()\n",
    "selected_features"
   ]
  },
  {
   "cell_type": "markdown",
   "id": "2b275080",
   "metadata": {},
   "source": [
    "# Evaluate performance of selected features on different models"
   ]
  },
  {
   "cell_type": "markdown",
   "id": "c6ba550f",
   "metadata": {},
   "source": [
    "Import necessary modules and helper functions"
   ]
  },
  {
   "cell_type": "code",
   "execution_count": 8,
   "id": "9740d5ac",
   "metadata": {
    "ExecuteTime": {
     "end_time": "2023-05-18T08:35:41.519935Z",
     "start_time": "2023-05-18T08:35:41.511273Z"
    }
   },
   "outputs": [],
   "source": [
    "from sklearn.linear_model import LinearRegression, Ridge, Lasso, ElasticNet\n",
    "from sklearn.ensemble import RandomForestRegressor, GradientBoostingRegressor\n",
    "from utils import ARIMAModel\n",
    "import xgboost as xgb\n",
    "\n",
    "from utils import fine_tune_model, evaluate_models, add_exo_features"
   ]
  },
  {
   "cell_type": "markdown",
   "id": "2f8c31f7",
   "metadata": {},
   "source": [
    "We will assess the performance of our selected features using four different time series forecasting models: SARIMAX, Lasso, XGBoost, and RandomForest. This evaluation aims to determine the robustness of the selected features.\n",
    "\n",
    "We will evaluate the model performance with and without the selected features and make comparisons."
   ]
  },
  {
   "cell_type": "code",
   "execution_count": 10,
   "id": "ed10707b",
   "metadata": {
    "ExecuteTime": {
     "end_time": "2023-05-18T08:40:41.473093Z",
     "start_time": "2023-05-18T08:39:30.830552Z"
    }
   },
   "outputs": [
    {
     "name": "stdout",
     "output_type": "stream",
     "text": [
      "Model name: ARIMAModel\n",
      "Loss: 1485.3088843066928\n",
      "Model name: Lasso\n",
      "Loss: 1804.3867454686188\n",
      "Model name: XGBRegressor\n",
      "Loss: 1500.328101110629\n",
      "Model name: RandomForestRegressor\n",
      "Loss: 2073.1441079901288\n",
      "==============================\n",
      "Best model: ARIMAModel\n",
      "Best loss: 1485.3088843066928\n"
     ]
    }
   ],
   "source": [
    "fine_tune_model_args = {\n",
    "    'train_data': train_data, \n",
    "    'target_col': target_col, \n",
    "    'cvs': cvs, \n",
    "    'scoring': scoring, \n",
    "    'timestamp_col': timestamp_col, \n",
    "    'optuna_n_trials': 10\n",
    "}\n",
    "\n",
    "arima_model = ARIMAModel()\n",
    "lasso_model = fine_tune_model('lasso', **fine_tune_model_args)\n",
    "xgb_model = fine_tune_model('xgboost', **fine_tune_model_args)\n",
    "rf_model = fine_tune_model('random_forest', **fine_tune_model_args)\n",
    "\n",
    "models = [arima_model, lasso_model, xgb_model, rf_model]\n",
    "evaluate_models(models, train_data, test_data, target_col, timestamp_col, scoring)"
   ]
  },
  {
   "cell_type": "code",
   "execution_count": 13,
   "id": "986c2c2b",
   "metadata": {
    "ExecuteTime": {
     "end_time": "2023-05-18T08:55:18.648714Z",
     "start_time": "2023-05-18T08:55:13.160456Z"
    }
   },
   "outputs": [],
   "source": [
    "train_data_final = add_exo_features(\n",
    "    train_data, \n",
    "    timestamp_col, \n",
    "    selected_features, \n",
    "    features_parquet_path, \n",
    "    prediction_length\n",
    ")\n",
    "\n",
    "test_data_final = add_exo_features(\n",
    "    test_data, \n",
    "    timestamp_col, \n",
    "    selected_features, \n",
    "    features_parquet_path, \n",
    "    prediction_length\n",
    ")"
   ]
  },
  {
   "cell_type": "code",
   "execution_count": 14,
   "id": "11361277",
   "metadata": {
    "ExecuteTime": {
     "end_time": "2023-05-18T09:05:17.465819Z",
     "start_time": "2023-05-18T08:55:18.651214Z"
    },
    "scrolled": false
   },
   "outputs": [
    {
     "name": "stdout",
     "output_type": "stream",
     "text": [
      "Model name: LinearRegression\n",
      "Loss: 1816.5134418021978\n",
      "Model name: ARIMAModel\n",
      "Loss: 1509.2951497926397\n",
      "Model name: Lasso\n",
      "Loss: 1828.0240074530345\n",
      "Model name: XGBRegressor\n",
      "Loss: 1568.423370013417\n",
      "Model name: RandomForestRegressor\n",
      "Loss: 1818.313257082276\n",
      "==============================\n",
      "Best model: ARIMAModel\n",
      "Best loss: 1509.2951497926397\n"
     ]
    }
   ],
   "source": [
    "fine_tune_model_args = {\n",
    "    'train_data': train_data_final, \n",
    "    'target_col': target_col, \n",
    "    'cvs': cvs, \n",
    "    'scoring': scoring, \n",
    "    'timestamp_col': timestamp_col, \n",
    "    'optuna_n_trials': optuna_n_trials\n",
    "}\n",
    "\n",
    "arima_model = ARIMAModel()\n",
    "lasso_model = fine_tune_model('lasso', **fine_tune_model_args)\n",
    "xgb_model = fine_tune_model('xgboost', **fine_tune_model_args)\n",
    "rf_model = fine_tune_model('random_forest', **fine_tune_model_args)\n",
    "\n",
    "models = [arima_model, lasso_model, xgb_model, rf_model]\n",
    "evaluate_models(models, train_data_final, test_data_final, target_col, timestamp_col, scoring)"
   ]
  },
  {
   "cell_type": "markdown",
   "id": "68af1672",
   "metadata": {},
   "source": []
  }
 ],
 "metadata": {
  "kernelspec": {
   "display_name": "Python 3 (ipykernel)",
   "language": "python",
   "name": "python3"
  },
  "language_info": {
   "codemirror_mode": {
    "name": "ipython",
    "version": 3
   },
   "file_extension": ".py",
   "mimetype": "text/x-python",
   "name": "python",
   "nbconvert_exporter": "python",
   "pygments_lexer": "ipython3",
   "version": "3.8.13"
  },
  "toc": {
   "base_numbering": 1,
   "nav_menu": {},
   "number_sections": false,
   "sideBar": true,
   "skip_h1_title": false,
   "title_cell": "Table of Contents",
   "title_sidebar": "Contents",
   "toc_cell": false,
   "toc_position": {
    "height": "calc(100% - 180px)",
    "left": "10px",
    "top": "150px",
    "width": "165px"
   },
   "toc_section_display": true,
   "toc_window_display": false
  }
 },
 "nbformat": 4,
 "nbformat_minor": 5
}
