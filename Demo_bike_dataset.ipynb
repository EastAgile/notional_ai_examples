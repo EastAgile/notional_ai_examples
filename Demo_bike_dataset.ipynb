{
 "cells": [
  {
   "cell_type": "code",
   "execution_count": 1,
   "id": "de180471",
   "metadata": {
    "ExecuteTime": {
     "end_time": "2023-05-18T05:21:25.492705Z",
     "start_time": "2023-05-18T05:21:25.092658Z"
    }
   },
   "outputs": [],
   "source": [
    "import numpy as np\n",
    "import pandas as pd\n",
    "import warnings\n",
    "warnings.filterwarnings(action='ignore')"
   ]
  },
  {
   "cell_type": "markdown",
   "id": "4bda1757",
   "metadata": {},
   "source": [
    "# Prepare dataset and parameters"
   ]
  },
  {
   "cell_type": "code",
   "execution_count": 2,
   "id": "447a76d2",
   "metadata": {
    "ExecuteTime": {
     "end_time": "2023-05-18T05:21:27.079378Z",
     "start_time": "2023-05-18T05:21:26.672350Z"
    }
   },
   "outputs": [],
   "source": [
    "from sklearn.metrics import mean_squared_error\n",
    "\n",
    "def rmse(y_true, y_pred):\n",
    "    return np.sqrt(mean_squared_error(y_true, y_pred))"
   ]
  },
  {
   "cell_type": "code",
   "execution_count": 3,
   "id": "9351e202",
   "metadata": {
    "ExecuteTime": {
     "end_time": "2023-05-18T05:21:27.963838Z",
     "start_time": "2023-05-18T05:21:27.947794Z"
    }
   },
   "outputs": [],
   "source": [
    "scoring = rmse\n",
    "timestamp_col = 'date'\n",
    "target_col = 'count'\n",
    "parquet_file_path = 'data/all_features.parquet'\n",
    "output_dir = 'fs_results'\n",
    "optuna_n_trials = 2\n",
    "prediction_length = 14\n",
    "test_size = None\n",
    "val_ratio = 0.25\n",
    "cv_fold = 5\n",
    "add_lag_col = True\n",
    "data = pd.read_csv(\"data/bike_sharing_day.csv\")"
   ]
  },
  {
   "cell_type": "code",
   "execution_count": 4,
   "id": "45d51a67",
   "metadata": {
    "ExecuteTime": {
     "end_time": "2023-05-18T05:21:29.494710Z",
     "start_time": "2023-05-18T05:21:29.461788Z"
    }
   },
   "outputs": [
    {
     "data": {
      "text/html": [
       "<div>\n",
       "<style scoped>\n",
       "    .dataframe tbody tr th:only-of-type {\n",
       "        vertical-align: middle;\n",
       "    }\n",
       "\n",
       "    .dataframe tbody tr th {\n",
       "        vertical-align: top;\n",
       "    }\n",
       "\n",
       "    .dataframe thead th {\n",
       "        text-align: right;\n",
       "    }\n",
       "</style>\n",
       "<table border=\"1\" class=\"dataframe\">\n",
       "  <thead>\n",
       "    <tr style=\"text-align: right;\">\n",
       "      <th></th>\n",
       "      <th>date</th>\n",
       "      <th>season</th>\n",
       "      <th>year</th>\n",
       "      <th>month</th>\n",
       "      <th>holiday</th>\n",
       "      <th>weekday</th>\n",
       "      <th>workingday</th>\n",
       "      <th>weather</th>\n",
       "      <th>temp</th>\n",
       "      <th>humidity</th>\n",
       "      <th>windspeed</th>\n",
       "      <th>count</th>\n",
       "    </tr>\n",
       "  </thead>\n",
       "  <tbody>\n",
       "    <tr>\n",
       "      <th>0</th>\n",
       "      <td>2011-01-01</td>\n",
       "      <td>1</td>\n",
       "      <td>0</td>\n",
       "      <td>1</td>\n",
       "      <td>0</td>\n",
       "      <td>6</td>\n",
       "      <td>0</td>\n",
       "      <td>2</td>\n",
       "      <td>0.344167</td>\n",
       "      <td>0.805833</td>\n",
       "      <td>0.160446</td>\n",
       "      <td>985</td>\n",
       "    </tr>\n",
       "    <tr>\n",
       "      <th>1</th>\n",
       "      <td>2011-01-02</td>\n",
       "      <td>1</td>\n",
       "      <td>0</td>\n",
       "      <td>1</td>\n",
       "      <td>0</td>\n",
       "      <td>0</td>\n",
       "      <td>0</td>\n",
       "      <td>2</td>\n",
       "      <td>0.363478</td>\n",
       "      <td>0.696087</td>\n",
       "      <td>0.248539</td>\n",
       "      <td>801</td>\n",
       "    </tr>\n",
       "    <tr>\n",
       "      <th>2</th>\n",
       "      <td>2011-01-03</td>\n",
       "      <td>1</td>\n",
       "      <td>0</td>\n",
       "      <td>1</td>\n",
       "      <td>0</td>\n",
       "      <td>1</td>\n",
       "      <td>1</td>\n",
       "      <td>1</td>\n",
       "      <td>0.196364</td>\n",
       "      <td>0.437273</td>\n",
       "      <td>0.248309</td>\n",
       "      <td>1349</td>\n",
       "    </tr>\n",
       "    <tr>\n",
       "      <th>3</th>\n",
       "      <td>2011-01-04</td>\n",
       "      <td>1</td>\n",
       "      <td>0</td>\n",
       "      <td>1</td>\n",
       "      <td>0</td>\n",
       "      <td>2</td>\n",
       "      <td>1</td>\n",
       "      <td>1</td>\n",
       "      <td>0.200000</td>\n",
       "      <td>0.590435</td>\n",
       "      <td>0.160296</td>\n",
       "      <td>1562</td>\n",
       "    </tr>\n",
       "    <tr>\n",
       "      <th>4</th>\n",
       "      <td>2011-01-05</td>\n",
       "      <td>1</td>\n",
       "      <td>0</td>\n",
       "      <td>1</td>\n",
       "      <td>0</td>\n",
       "      <td>3</td>\n",
       "      <td>1</td>\n",
       "      <td>1</td>\n",
       "      <td>0.226957</td>\n",
       "      <td>0.436957</td>\n",
       "      <td>0.186900</td>\n",
       "      <td>1600</td>\n",
       "    </tr>\n",
       "    <tr>\n",
       "      <th>...</th>\n",
       "      <td>...</td>\n",
       "      <td>...</td>\n",
       "      <td>...</td>\n",
       "      <td>...</td>\n",
       "      <td>...</td>\n",
       "      <td>...</td>\n",
       "      <td>...</td>\n",
       "      <td>...</td>\n",
       "      <td>...</td>\n",
       "      <td>...</td>\n",
       "      <td>...</td>\n",
       "      <td>...</td>\n",
       "    </tr>\n",
       "    <tr>\n",
       "      <th>726</th>\n",
       "      <td>2012-12-27</td>\n",
       "      <td>1</td>\n",
       "      <td>1</td>\n",
       "      <td>12</td>\n",
       "      <td>0</td>\n",
       "      <td>4</td>\n",
       "      <td>1</td>\n",
       "      <td>2</td>\n",
       "      <td>0.254167</td>\n",
       "      <td>0.652917</td>\n",
       "      <td>0.350133</td>\n",
       "      <td>2114</td>\n",
       "    </tr>\n",
       "    <tr>\n",
       "      <th>727</th>\n",
       "      <td>2012-12-28</td>\n",
       "      <td>1</td>\n",
       "      <td>1</td>\n",
       "      <td>12</td>\n",
       "      <td>0</td>\n",
       "      <td>5</td>\n",
       "      <td>1</td>\n",
       "      <td>2</td>\n",
       "      <td>0.253333</td>\n",
       "      <td>0.590000</td>\n",
       "      <td>0.155471</td>\n",
       "      <td>3095</td>\n",
       "    </tr>\n",
       "    <tr>\n",
       "      <th>728</th>\n",
       "      <td>2012-12-29</td>\n",
       "      <td>1</td>\n",
       "      <td>1</td>\n",
       "      <td>12</td>\n",
       "      <td>0</td>\n",
       "      <td>6</td>\n",
       "      <td>0</td>\n",
       "      <td>2</td>\n",
       "      <td>0.253333</td>\n",
       "      <td>0.752917</td>\n",
       "      <td>0.124383</td>\n",
       "      <td>1341</td>\n",
       "    </tr>\n",
       "    <tr>\n",
       "      <th>729</th>\n",
       "      <td>2012-12-30</td>\n",
       "      <td>1</td>\n",
       "      <td>1</td>\n",
       "      <td>12</td>\n",
       "      <td>0</td>\n",
       "      <td>0</td>\n",
       "      <td>0</td>\n",
       "      <td>1</td>\n",
       "      <td>0.255833</td>\n",
       "      <td>0.483333</td>\n",
       "      <td>0.350754</td>\n",
       "      <td>1796</td>\n",
       "    </tr>\n",
       "    <tr>\n",
       "      <th>730</th>\n",
       "      <td>2012-12-31</td>\n",
       "      <td>1</td>\n",
       "      <td>1</td>\n",
       "      <td>12</td>\n",
       "      <td>0</td>\n",
       "      <td>1</td>\n",
       "      <td>1</td>\n",
       "      <td>2</td>\n",
       "      <td>0.215833</td>\n",
       "      <td>0.577500</td>\n",
       "      <td>0.154846</td>\n",
       "      <td>2729</td>\n",
       "    </tr>\n",
       "  </tbody>\n",
       "</table>\n",
       "<p>731 rows × 12 columns</p>\n",
       "</div>"
      ],
      "text/plain": [
       "           date  season  year  month  holiday  weekday  workingday  weather  \\\n",
       "0    2011-01-01       1     0      1        0        6           0        2   \n",
       "1    2011-01-02       1     0      1        0        0           0        2   \n",
       "2    2011-01-03       1     0      1        0        1           1        1   \n",
       "3    2011-01-04       1     0      1        0        2           1        1   \n",
       "4    2011-01-05       1     0      1        0        3           1        1   \n",
       "..          ...     ...   ...    ...      ...      ...         ...      ...   \n",
       "726  2012-12-27       1     1     12        0        4           1        2   \n",
       "727  2012-12-28       1     1     12        0        5           1        2   \n",
       "728  2012-12-29       1     1     12        0        6           0        2   \n",
       "729  2012-12-30       1     1     12        0        0           0        1   \n",
       "730  2012-12-31       1     1     12        0        1           1        2   \n",
       "\n",
       "         temp  humidity  windspeed  count  \n",
       "0    0.344167  0.805833   0.160446    985  \n",
       "1    0.363478  0.696087   0.248539    801  \n",
       "2    0.196364  0.437273   0.248309   1349  \n",
       "3    0.200000  0.590435   0.160296   1562  \n",
       "4    0.226957  0.436957   0.186900   1600  \n",
       "..        ...       ...        ...    ...  \n",
       "726  0.254167  0.652917   0.350133   2114  \n",
       "727  0.253333  0.590000   0.155471   3095  \n",
       "728  0.253333  0.752917   0.124383   1341  \n",
       "729  0.255833  0.483333   0.350754   1796  \n",
       "730  0.215833  0.577500   0.154846   2729  \n",
       "\n",
       "[731 rows x 12 columns]"
      ]
     },
     "execution_count": 4,
     "metadata": {},
     "output_type": "execute_result"
    }
   ],
   "source": [
    "data[timestamp_col] = data[timestamp_col].astype(str)\n",
    "data = data.sort_values(timestamp_col).reset_index(drop=True)\n",
    "data"
   ]
  },
  {
   "cell_type": "code",
   "execution_count": 5,
   "id": "ade4419e",
   "metadata": {
    "ExecuteTime": {
     "end_time": "2023-05-18T05:21:32.692199Z",
     "start_time": "2023-05-18T05:21:31.246622Z"
    }
   },
   "outputs": [],
   "source": [
    "from utils import prepare_train_val_test_data"
   ]
  },
  {
   "cell_type": "code",
   "execution_count": 6,
   "id": "371f7d19",
   "metadata": {
    "ExecuteTime": {
     "end_time": "2023-05-18T05:21:33.483231Z",
     "start_time": "2023-05-18T05:21:33.470866Z"
    }
   },
   "outputs": [],
   "source": [
    "train_data, test_data, cvs = prepare_train_val_test_data(\n",
    "    data=data, \n",
    "    target_col=target_col, \n",
    "    timestamp_col=timestamp_col, \n",
    "    test_size=test_size, \n",
    "    val_ratio=val_ratio, \n",
    "    cv_fold=cv_fold, \n",
    "    prediction_length=prediction_length, \n",
    "    add_lag_col=add_lag_col\n",
    ")"
   ]
  },
  {
   "cell_type": "markdown",
   "id": "7ec3e66e",
   "metadata": {},
   "source": [
    "# Feature selection"
   ]
  },
  {
   "cell_type": "code",
   "execution_count": 7,
   "id": "de89864d",
   "metadata": {
    "ExecuteTime": {
     "end_time": "2023-05-18T05:21:35.289471Z",
     "start_time": "2023-05-18T05:21:35.279937Z"
    }
   },
   "outputs": [],
   "source": [
    "from feature_selection import FeatureSelector\n",
    "\n",
    "feature_selector = FeatureSelector()"
   ]
  },
  {
   "cell_type": "code",
   "execution_count": 8,
   "id": "23091653",
   "metadata": {
    "ExecuteTime": {
     "end_time": "2023-05-18T05:24:22.947887Z",
     "start_time": "2023-05-18T05:21:35.996825Z"
    },
    "scrolled": true
   },
   "outputs": [
    {
     "data": {
      "application/vnd.jupyter.widget-view+json": {
       "model_id": "e9f145d23373477dace3672d9aab4724",
       "version_major": 2,
       "version_minor": 0
      },
      "text/plain": [
       "  0%|          | 0/18 [00:00<?, ?it/s]"
      ]
     },
     "metadata": {},
     "output_type": "display_data"
    },
    {
     "name": "stderr",
     "output_type": "stream",
     "text": [
      "/opt/conda/envs/notional-ts/lib/python3.8/site-packages/xgboost/compat.py:36: FutureWarning: pandas.Int64Index is deprecated and will be removed from pandas in a future version. Use pandas.Index with the appropriate dtype instead.\n",
      "  from pandas import MultiIndex, Int64Index\n",
      " 11%|█         | 330/2987 [02:32<20:25,  2.17it/s]\n",
      "Traceback (most recent call last):\n",
      "  File \"calculate_feature_score.py\", line 43, in <module>\n",
      "    output = calculate_feature_score(**input_dict)\n",
      "  File \"calculate_feature_score.py\", line 22, in calculate_feature_score\n",
      "    losses = run_cv(model, train_data_exo_small, target_col,\n",
      "  File \"/notional_data/phuc_workspace/notional-ts-examples/utils.py\", line 197, in run_cv\n",
      "    model.fit(X_train, y_train)\n",
      "  File \"/opt/conda/envs/notional-ts/lib/python3.8/site-packages/xgboost/core.py\", line 506, in inner_f\n",
      "    return f(**kwargs)\n",
      "  File \"/opt/conda/envs/notional-ts/lib/python3.8/site-packages/xgboost/sklearn.py\", line 789, in fit\n",
      "    self._Booster = train(\n",
      "  File \"/opt/conda/envs/notional-ts/lib/python3.8/site-packages/xgboost/training.py\", line 188, in train\n",
      "    bst = _train_internal(params, dtrain,\n",
      "  File \"/opt/conda/envs/notional-ts/lib/python3.8/site-packages/xgboost/training.py\", line 81, in _train_internal\n",
      "    bst.update(dtrain, i, obj)\n",
      "  File \"/opt/conda/envs/notional-ts/lib/python3.8/site-packages/xgboost/core.py\", line 1677, in update\n",
      "    self._validate_features(dtrain)\n",
      "  File \"/opt/conda/envs/notional-ts/lib/python3.8/site-packages/xgboost/core.py\", line 2465, in _validate_features\n",
      "    if data.feature_names is None and self.feature_names is not None:\n",
      "  File \"/opt/conda/envs/notional-ts/lib/python3.8/site-packages/xgboost/core.py\", line 967, in feature_names\n",
      "    _check_call(\n",
      "  File \"/opt/conda/envs/notional-ts/lib/python3.8/site-packages/xgboost/core.py\", line 206, in _check_call\n",
      "    def _check_call(ret):\n",
      "KeyboardInterrupt\n"
     ]
    },
    {
     "ename": "KeyboardInterrupt",
     "evalue": "",
     "output_type": "error",
     "traceback": [
      "\u001b[0;31m---------------------------------------------------------------------------\u001b[0m",
      "\u001b[0;31mKeyboardInterrupt\u001b[0m                         Traceback (most recent call last)",
      "Cell \u001b[0;32mIn[8], line 1\u001b[0m\n\u001b[0;32m----> 1\u001b[0m \u001b[43mfeature_selector\u001b[49m\u001b[38;5;241;43m.\u001b[39;49m\u001b[43mfit\u001b[49m\u001b[43m(\u001b[49m\n\u001b[1;32m      2\u001b[0m \u001b[43m    \u001b[49m\u001b[43mtrain_data\u001b[49m\u001b[38;5;241;43m=\u001b[39;49m\u001b[43mtrain_data\u001b[49m\u001b[43m,\u001b[49m\n\u001b[1;32m      3\u001b[0m \u001b[43m    \u001b[49m\u001b[43mcvs\u001b[49m\u001b[38;5;241;43m=\u001b[39;49m\u001b[43mcvs\u001b[49m\u001b[43m,\u001b[49m\n\u001b[1;32m      4\u001b[0m \u001b[43m    \u001b[49m\u001b[43mtimestamp_col\u001b[49m\u001b[38;5;241;43m=\u001b[39;49m\u001b[43mtimestamp_col\u001b[49m\u001b[43m,\u001b[49m\n\u001b[1;32m      5\u001b[0m \u001b[43m    \u001b[49m\u001b[43mtarget_col\u001b[49m\u001b[38;5;241;43m=\u001b[39;49m\u001b[43mtarget_col\u001b[49m\u001b[43m,\u001b[49m\n\u001b[1;32m      6\u001b[0m \u001b[43m    \u001b[49m\u001b[43mprediction_length\u001b[49m\u001b[38;5;241;43m=\u001b[39;49m\u001b[43mprediction_length\u001b[49m\u001b[43m,\u001b[49m\n\u001b[1;32m      7\u001b[0m \u001b[43m    \u001b[49m\u001b[43mparquet_file_path\u001b[49m\u001b[38;5;241;43m=\u001b[39;49m\u001b[43mparquet_file_path\u001b[49m\u001b[43m,\u001b[49m\n\u001b[1;32m      8\u001b[0m \u001b[43m    \u001b[49m\u001b[43moutput_dir\u001b[49m\u001b[38;5;241;43m=\u001b[39;49m\u001b[43moutput_dir\u001b[49m\u001b[43m,\u001b[49m\n\u001b[1;32m      9\u001b[0m \u001b[43m    \u001b[49m\u001b[43mscoring\u001b[49m\u001b[38;5;241;43m=\u001b[39;49m\u001b[43mscoring\u001b[49m\u001b[43m,\u001b[49m\n\u001b[1;32m     10\u001b[0m \u001b[43m    \u001b[49m\u001b[43moptuna_n_trials\u001b[49m\u001b[38;5;241;43m=\u001b[39;49m\u001b[43moptuna_n_trials\u001b[49m\n\u001b[1;32m     11\u001b[0m \u001b[43m)\u001b[49m\n",
      "File \u001b[0;32m/notional_data/phuc_workspace/notional-ts-examples/feature_selection.py:176\u001b[0m, in \u001b[0;36mFeatureSelector.fit\u001b[0;34m(self, train_data, cvs, timestamp_col, target_col, prediction_length, parquet_file_path, output_dir, scoring, optuna_n_trials)\u001b[0m\n\u001b[1;32m    173\u001b[0m \u001b[38;5;28mself\u001b[39m\u001b[38;5;241m.\u001b[39moptuna_n_trials \u001b[38;5;241m=\u001b[39m optuna_n_trials\n\u001b[1;32m    175\u001b[0m \u001b[38;5;28mself\u001b[39m\u001b[38;5;241m.\u001b[39m__finetune_xgb()\n\u001b[0;32m--> 176\u001b[0m \u001b[38;5;28;43mself\u001b[39;49m\u001b[38;5;241;43m.\u001b[39;49m\u001b[43m__run_feature_selection_loop\u001b[49m\u001b[43m(\u001b[49m\u001b[43m)\u001b[49m\n\u001b[1;32m    177\u001b[0m top_features \u001b[38;5;241m=\u001b[39m \u001b[38;5;28mself\u001b[39m\u001b[38;5;241m.\u001b[39m__get_top_10_features()\n\u001b[1;32m    178\u001b[0m \u001b[38;5;28;01mif\u001b[39;00m \u001b[38;5;28mlen\u001b[39m(top_features) \u001b[38;5;241m==\u001b[39m \u001b[38;5;241m0\u001b[39m:\n",
      "File \u001b[0;32m/notional_data/phuc_workspace/notional-ts-examples/feature_selection.py:94\u001b[0m, in \u001b[0;36mFeatureSelector.__run_feature_selection_loop\u001b[0;34m(self)\u001b[0m\n\u001b[1;32m     87\u001b[0m process \u001b[38;5;241m=\u001b[39m subprocess\u001b[38;5;241m.\u001b[39mPopen(\n\u001b[1;32m     88\u001b[0m     [\u001b[38;5;124m'\u001b[39m\u001b[38;5;124mpython\u001b[39m\u001b[38;5;124m'\u001b[39m, \u001b[38;5;124m'\u001b[39m\u001b[38;5;124mcalculate_feature_score.py\u001b[39m\u001b[38;5;124m'\u001b[39m],\n\u001b[1;32m     89\u001b[0m     stdin\u001b[38;5;241m=\u001b[39msubprocess\u001b[38;5;241m.\u001b[39mPIPE,\n\u001b[1;32m     90\u001b[0m     stdout\u001b[38;5;241m=\u001b[39msubprocess\u001b[38;5;241m.\u001b[39mPIPE,\n\u001b[1;32m     91\u001b[0m     bufsize\u001b[38;5;241m=\u001b[39m\u001b[38;5;241m0\u001b[39m\n\u001b[1;32m     92\u001b[0m )\n\u001b[1;32m     93\u001b[0m cloudpickle\u001b[38;5;241m.\u001b[39mdump(input_dict, process\u001b[38;5;241m.\u001b[39mstdin)\n\u001b[0;32m---> 94\u001b[0m output \u001b[38;5;241m=\u001b[39m \u001b[43mcloudpickle\u001b[49m\u001b[38;5;241;43m.\u001b[39;49m\u001b[43mload\u001b[49m\u001b[43m(\u001b[49m\u001b[43mprocess\u001b[49m\u001b[38;5;241;43m.\u001b[39;49m\u001b[43mstdout\u001b[49m\u001b[43m)\u001b[49m\n\u001b[1;32m     95\u001b[0m \u001b[38;5;28mprint\u001b[39m(output)\n",
      "\u001b[0;31mKeyboardInterrupt\u001b[0m: "
     ]
    }
   ],
   "source": [
    "feature_selector.fit(\n",
    "    train_data=train_data,\n",
    "    cvs=cvs,\n",
    "    timestamp_col=timestamp_col,\n",
    "    target_col=target_col,\n",
    "    prediction_length=prediction_length,\n",
    "    parquet_file_path=parquet_file_path,\n",
    "    output_dir=output_dir,\n",
    "    scoring=scoring,\n",
    "    optuna_n_trials=optuna_n_trials\n",
    ")"
   ]
  },
  {
   "cell_type": "code",
   "execution_count": null,
   "id": "18441e2e",
   "metadata": {
    "ExecuteTime": {
     "start_time": "2023-05-18T04:51:22.708Z"
    }
   },
   "outputs": [],
   "source": [
    "final_selected_features = feature_selector.get_best_features()\n",
    "final_selected_features"
   ]
  },
  {
   "cell_type": "markdown",
   "id": "2b275080",
   "metadata": {},
   "source": [
    "# Evaluate performance of new features"
   ]
  },
  {
   "cell_type": "code",
   "execution_count": null,
   "id": "9740d5ac",
   "metadata": {
    "ExecuteTime": {
     "start_time": "2023-05-18T04:51:22.709Z"
    }
   },
   "outputs": [],
   "source": [
    "from sklearn.metrics import mean_squared_error\n",
    "from sklearn.linear_model import LinearRegression, Ridge, Lasso, ElasticNet\n",
    "from sklearn.tree import DecisionTreeRegressor\n",
    "from sklearn.ensemble import RandomForestRegressor, GradientBoostingRegressor\n",
    "from utils import ARIMAModel\n",
    "import xgboost as xgb"
   ]
  },
  {
   "cell_type": "code",
   "execution_count": null,
   "id": "96dd6197",
   "metadata": {
    "ExecuteTime": {
     "start_time": "2023-05-18T04:51:22.710Z"
    }
   },
   "outputs": [],
   "source": [
    "from utils import fine_tune_model, evaluate_models"
   ]
  },
  {
   "cell_type": "code",
   "execution_count": null,
   "id": "ed10707b",
   "metadata": {
    "ExecuteTime": {
     "start_time": "2023-05-18T04:51:22.711Z"
    }
   },
   "outputs": [],
   "source": [
    "fine_tune_model_args = {\n",
    "    'train_data': train_data, \n",
    "    'target_col': target_col, \n",
    "    'cvs': cvs, \n",
    "    'scoring': scoring, \n",
    "    'timestamp_col': timestamp_col, \n",
    "    'optuna_n_trials': optuna_n_trials\n",
    "}\n",
    "\n",
    "lr_model = LinearRegression()\n",
    "arima_model = ARIMAModel()\n",
    "lasso_model = fine_tune_model('lasso', **fine_tune_model_args)\n",
    "xgb_model = fine_tune_model('xgboost', **fine_tune_model_args)\n",
    "rf_model = fine_tune_model('random_forest', **fine_tune_model_args)\n",
    "\n",
    "models = [lr_model, arima_model, lasso_model, xgb_model, rf_model]\n",
    "evaluate_models(models, train_data, test_data, target_col, timestamp_col, scoring)"
   ]
  },
  {
   "cell_type": "code",
   "execution_count": null,
   "id": "87028b08",
   "metadata": {
    "ExecuteTime": {
     "start_time": "2023-05-18T04:51:22.712Z"
    }
   },
   "outputs": [],
   "source": [
    "from utils import add_exo_features"
   ]
  },
  {
   "cell_type": "code",
   "execution_count": null,
   "id": "986c2c2b",
   "metadata": {
    "ExecuteTime": {
     "start_time": "2023-05-18T04:51:22.716Z"
    }
   },
   "outputs": [],
   "source": [
    "train_data_final = add_exo_features(\n",
    "    train_data, \n",
    "    timestamp_col, \n",
    "    final_selected_features, \n",
    "    parquet_file_path, \n",
    "    prediction_length\n",
    ")\n",
    "\n",
    "test_data_final = add_exo_features(\n",
    "    test_data, \n",
    "    timestamp_col, \n",
    "    final_selected_features, \n",
    "    parquet_file_path, \n",
    "    prediction_length\n",
    ")"
   ]
  },
  {
   "cell_type": "code",
   "execution_count": null,
   "id": "c1c84345",
   "metadata": {
    "ExecuteTime": {
     "start_time": "2023-05-18T04:51:22.717Z"
    }
   },
   "outputs": [],
   "source": [
    "train_data_final"
   ]
  },
  {
   "cell_type": "code",
   "execution_count": null,
   "id": "11361277",
   "metadata": {
    "ExecuteTime": {
     "start_time": "2023-05-18T04:51:22.718Z"
    },
    "scrolled": false
   },
   "outputs": [],
   "source": [
    "fine_tune_model_args = {\n",
    "    'train_data': train_data_final, \n",
    "    'target_col': target_col, \n",
    "    'cvs': cvs, \n",
    "    'scoring': scoring, \n",
    "    'timestamp_col': timestamp_col, \n",
    "    'optuna_n_trials': optuna_n_trials\n",
    "}\n",
    "\n",
    "lr_model = LinearRegression()\n",
    "arima_model = ARIMAModel()\n",
    "lasso_model = fine_tune_model('lasso', **fine_tune_model_args)\n",
    "xgb_model = fine_tune_model('xgboost', **fine_tune_model_args)\n",
    "rf_model = fine_tune_model('random_forest', **fine_tune_model_args)\n",
    "\n",
    "models = [lr_model, arima_model, lasso_model, xgb_model, rf_model]\n",
    "evaluate_models(models, train_data_final, test_data_final, target_col, timestamp_col, scoring)"
   ]
  },
  {
   "cell_type": "code",
   "execution_count": null,
   "id": "3289bc94",
   "metadata": {},
   "outputs": [],
   "source": []
  }
 ],
 "metadata": {
  "kernelspec": {
   "display_name": "Python 3 (ipykernel)",
   "language": "python",
   "name": "python3"
  },
  "language_info": {
   "codemirror_mode": {
    "name": "ipython",
    "version": 3
   },
   "file_extension": ".py",
   "mimetype": "text/x-python",
   "name": "python",
   "nbconvert_exporter": "python",
   "pygments_lexer": "ipython3",
   "version": "3.8.13"
  },
  "toc": {
   "base_numbering": 1,
   "nav_menu": {},
   "number_sections": true,
   "sideBar": true,
   "skip_h1_title": false,
   "title_cell": "Table of Contents",
   "title_sidebar": "Contents",
   "toc_cell": false,
   "toc_position": {},
   "toc_section_display": true,
   "toc_window_display": false
  }
 },
 "nbformat": 4,
 "nbformat_minor": 5
}
